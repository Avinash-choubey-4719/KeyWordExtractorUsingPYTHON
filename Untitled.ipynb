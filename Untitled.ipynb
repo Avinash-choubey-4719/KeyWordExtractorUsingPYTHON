{
 "cells": [
  {
   "cell_type": "code",
   "execution_count": 3,
   "id": "5b49189e",
   "metadata": {},
   "outputs": [],
   "source": [
    "from rake_nltk import Rake"
   ]
  },
  {
   "cell_type": "code",
   "execution_count": 2,
   "id": "f241661d",
   "metadata": {},
   "outputs": [
    {
     "name": "stdout",
     "output_type": "stream",
     "text": [
      "Collecting rake_nltk\n",
      "  Downloading rake_nltk-1.0.6-py3-none-any.whl (9.1 kB)\n",
      "Requirement already satisfied: nltk<4.0.0,>=3.6.2 in c:\\users\\dell\\anaconda3\\lib\\site-packages (from rake_nltk) (3.7)\n",
      "Requirement already satisfied: regex>=2021.8.3 in c:\\users\\dell\\anaconda3\\lib\\site-packages (from nltk<4.0.0,>=3.6.2->rake_nltk) (2022.3.15)\n",
      "Requirement already satisfied: joblib in c:\\users\\dell\\anaconda3\\lib\\site-packages (from nltk<4.0.0,>=3.6.2->rake_nltk) (1.1.0)\n",
      "Requirement already satisfied: click in c:\\users\\dell\\anaconda3\\lib\\site-packages (from nltk<4.0.0,>=3.6.2->rake_nltk) (8.0.4)\n",
      "Requirement already satisfied: tqdm in c:\\users\\dell\\anaconda3\\lib\\site-packages (from nltk<4.0.0,>=3.6.2->rake_nltk) (4.64.0)\n",
      "Requirement already satisfied: colorama in c:\\users\\dell\\anaconda3\\lib\\site-packages (from click->nltk<4.0.0,>=3.6.2->rake_nltk) (0.4.4)\n",
      "Installing collected packages: rake-nltk\n",
      "Successfully installed rake-nltk-1.0.6\n",
      "Note: you may need to restart the kernel to use updated packages.\n"
     ]
    }
   ],
   "source": [
    "pip install rake_nltk"
   ]
  },
  {
   "cell_type": "code",
   "execution_count": 4,
   "id": "319de098",
   "metadata": {},
   "outputs": [],
   "source": [
    "rake_mode = Rake()"
   ]
  },
  {
   "cell_type": "code",
   "execution_count": 5,
   "id": "c4fad247",
   "metadata": {},
   "outputs": [
    {
     "name": "stdout",
     "output_type": "stream",
     "text": [
      "Hi, this is the example text file for my project.\n",
      "Here, the main keywords will be extracted and will be shown to the users.\n",
      "Same as you have seen the RESUME selector application, used to select and shorlist the resume based on the keywords.\n",
      "Same you can apply here also..........\n"
     ]
    }
   ],
   "source": [
    "with open('Example.txt', 'r') as file:\n",
    "    text_example = file.read()\n",
    "print(text_example)    "
   ]
  },
  {
   "cell_type": "code",
   "execution_count": 9,
   "id": "4dd95cc9",
   "metadata": {},
   "outputs": [
    {
     "name": "stderr",
     "output_type": "stream",
     "text": [
      "[nltk_data] Downloading package punkt to\n",
      "[nltk_data]     C:\\Users\\DELL\\AppData\\Roaming\\nltk_data...\n",
      "[nltk_data]   Unzipping tokenizers\\punkt.zip.\n"
     ]
    },
    {
     "data": {
      "text/plain": [
       "True"
      ]
     },
     "execution_count": 9,
     "metadata": {},
     "output_type": "execute_result"
    }
   ],
   "source": [
    "import nltk\n",
    "nltk.download('punkt')"
   ]
  },
  {
   "cell_type": "code",
   "execution_count": 10,
   "id": "ef070585",
   "metadata": {},
   "outputs": [],
   "source": [
    "rake_mode.extract_keywords_from_text(text_example)"
   ]
  },
  {
   "cell_type": "code",
   "execution_count": 12,
   "id": "0b1d7cef",
   "metadata": {},
   "outputs": [],
   "source": [
    "extracted_keyword = rake_mode.get_ranked_phrases()"
   ]
  },
  {
   "cell_type": "code",
   "execution_count": 13,
   "id": "d1af7b21",
   "metadata": {},
   "outputs": [
    {
     "name": "stdout",
     "output_type": "stream",
     "text": [
      "['example text file', 'resume selector application', 'resume based', 'also ..........', 'main keywords', 'keywords', 'users', 'used', 'shown', 'shorlist', 'select', 'seen', 'project', 'hi', 'extracted', 'apply']\n"
     ]
    }
   ],
   "source": [
    "print(extracted_keyword)"
   ]
  },
  {
   "cell_type": "code",
   "execution_count": null,
   "id": "31092fe6",
   "metadata": {},
   "outputs": [],
   "source": []
  }
 ],
 "metadata": {
  "kernelspec": {
   "display_name": "Python 3 (ipykernel)",
   "language": "python",
   "name": "python3"
  },
  "language_info": {
   "codemirror_mode": {
    "name": "ipython",
    "version": 3
   },
   "file_extension": ".py",
   "mimetype": "text/x-python",
   "name": "python",
   "nbconvert_exporter": "python",
   "pygments_lexer": "ipython3",
   "version": "3.9.12"
  }
 },
 "nbformat": 4,
 "nbformat_minor": 5
}
